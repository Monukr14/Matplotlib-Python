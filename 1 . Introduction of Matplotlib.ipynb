{
 "cells": [
  {
   "cell_type": "code",
   "execution_count": 19,
   "metadata": {},
   "outputs": [],
   "source": [
    "# Matplotlib is used for data visualization \n",
    "# It has so many charts\n",
    "# Any types of chart can be made using this\n",
    "\n",
    "# Why do we need visualization? \n",
    "# we need data visualization so that we can find the data in a exact way.\n",
    "# example we have data of 7 days with their temperature and we want to know which day has minimum and maximum temperature than It will take\n",
    "# so many times if we look one by one but using Matplotlib we can find very quick.\n",
    "\n",
    "# Configuration \n",
    "# In Python: \n",
    "# 1.\n",
    "# run the below command\n",
    "# pip install matplotlib\n",
    "\n",
    "# 2.\n",
    "# If we are using anaconda than anaconda comes with so many libraries installed and we don't need to install matplot in the anaconda.\n",
    "\n"
   ]
  },
  {
   "cell_type": "code",
   "execution_count": 20,
   "metadata": {},
   "outputs": [],
   "source": [
    "import matplotlib.pyplot as plt\n",
    "# pyplot is the main plot object in matplotlib module\n",
    "\n",
    "%matplotlib inline\n",
    "# It renders the chart fine\n",
    "\n"
   ]
  },
  {
   "cell_type": "code",
   "execution_count": 21,
   "metadata": {},
   "outputs": [],
   "source": [
    "x = [1,2,3,4,5,6,7]\n",
    "y = [50,51,52,48,47,49,46]"
   ]
  },
  {
   "cell_type": "code",
   "execution_count": 22,
   "metadata": {},
   "outputs": [
    {
     "data": {
      "text/plain": [
       "[<matplotlib.lines.Line2D at 0x2206603eb38>]"
      ]
     },
     "execution_count": 22,
     "metadata": {},
     "output_type": "execute_result"
    },
    {
     "data": {
      "image/png": "[encoded data removed]",
      "text/plain": [
       "<Figure size 432x288 with 1 Axes>"
      ]
     },
     "metadata": {
      "needs_background": "light"
     },
     "output_type": "display_data"
    }
   ],
   "source": [
    "# https://matplotlib.org/3.1.1/api/_as_gen/matplotlib.pyplot.plot.html\n",
    "# This is the API Link for the matplotlib pyplot \n",
    "\n",
    "# here label is used for label\n",
    "plt.xlabel('Day')\n",
    "plt.ylabel('Temperature')\n",
    "plt.title('Weather')\n",
    "plt.plot(x,y,color=\"red\",linewidth=2,linestyle=\":\") # It is creating a graph from x and y data\n",
    "\n",
    "# linewidth is used for the width of line\n",
    "# linestyle is used for showing different style of data"
   ]
  },
  {
   "cell_type": "code",
   "execution_count": null,
   "metadata": {},
   "outputs": [],
   "source": []
  },
  {
   "cell_type": "code",
   "execution_count": null,
   "metadata": {},
   "outputs": [],
   "source": []
  },
  {
   "cell_type": "code",
   "execution_count": null,
   "metadata": {},
   "outputs": [],
   "source": []
  },
  {
   "cell_type": "code",
   "execution_count": null,
   "metadata": {},
   "outputs": [],
   "source": []
  }
 ],
 "metadata": {
  "kernelspec": {
   "display_name": "Python 3",
   "language": "python",
   "name": "python3"
  },
  "language_info": {
   "codemirror_mode": {
    "name": "ipython",
    "version": 3
   },
   "file_extension": ".py",
   "mimetype": "text/x-python",
   "name": "python",
   "nbconvert_exporter": "python",
   "pygments_lexer": "ipython3",
   "version": "3.7.3"
  }
 },
 "nbformat": 4,
 "nbformat_minor": 2
}
